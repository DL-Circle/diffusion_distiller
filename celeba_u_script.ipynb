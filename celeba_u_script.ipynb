{
 "cells": [
  {
   "cell_type": "markdown",
   "source": [
    "# Train the base model with 1024 diffusion steps"
   ],
   "metadata": {
    "collapsed": false,
    "pycharm": {
     "name": "#%% md\n"
    }
   }
  },
  {
   "cell_type": "code",
   "execution_count": null,
   "outputs": [],
   "source": [
    "#!python ./train.py --module celeba_u --name celeba --dname original --batch_size 1 --num_workers 4 --num_iters 150000"
   ],
   "metadata": {
    "collapsed": false,
    "pycharm": {
     "name": "#%%\n",
     "is_executing": true
    }
   }
  },
  {
   "cell_type": "markdown",
   "source": [
    "# Model distillation"
   ],
   "metadata": {
    "collapsed": false,
    "pycharm": {
     "name": "#%% md\n"
    }
   }
  },
  {
   "cell_type": "markdown",
   "source": [
    "## Distillate to 512 steps"
   ],
   "metadata": {
    "collapsed": false,
    "pycharm": {
     "name": "#%% md\n"
    }
   },
   "execution_count": 4
  },
  {
   "cell_type": "code",
   "source": [
    "!python ./distillate.py --module celeba_u --diffusion GaussianDiffusionDefault --name celeba --dname base_0 --base_checkpoint ./checkpoints/celeba/original/checkpoint.pt --batch_size 1 --num_workers 4 --num_iters 5000 --log_interval 5"
   ],
   "metadata": {
    "collapsed": false,
    "pycharm": {
     "name": "#%%\n",
     "is_executing": true
    }
   },
   "execution_count": null,
   "outputs": []
  },
  {
   "cell_type": "markdown",
   "source": [
    "## Distillate to 256 steps"
   ],
   "metadata": {
    "collapsed": false
   }
  },
  {
   "cell_type": "code",
   "execution_count": null,
   "outputs": [],
   "source": [
    "!python ./distillate.py --module celeba_u --diffusion GaussianDiffusionDefault --name celeba --dname base_1 --base_checkpoint ./checkpoints/celeba/base_0/checkpoint.pt --batch_size 1 --num_workers 4 --num_iters 5000 --log_interval 5"
   ],
   "metadata": {
    "collapsed": false,
    "pycharm": {
     "name": "#%%\n",
     "is_executing": true
    }
   }
  },
  {
   "cell_type": "markdown",
   "source": [
    "## Distillate to 128 steps"
   ],
   "metadata": {
    "collapsed": false
   }
  },
  {
   "cell_type": "code",
   "source": [
    "!python ./distillate.py --module celeba_u --diffusion GaussianDiffusionDefault --name celeba --dname base_2 --base_checkpoint ./checkpoints/celeba/base_1/checkpoint.pt --batch_size 1 --num_workers 4 --num_iters 5000 --log_interval 5"
   ],
   "metadata": {
    "collapsed": false,
    "pycharm": {
     "name": "#%%\n",
     "is_executing": true
    }
   },
   "execution_count": null,
   "outputs": []
  },
  {
   "cell_type": "markdown",
   "source": [
    "## Distillate to 64 steps"
   ],
   "metadata": {
    "collapsed": false
   }
  },
  {
   "cell_type": "code",
   "source": [
    "!python ./distillate.py --module celeba_u --diffusion GaussianDiffusionDefault --name celeba --dname base_3 --base_checkpoint ./checkpoints/celeba/base_2/checkpoint.pt --batch_size 1 --num_workers 4 --num_iters 5000 --log_interval 5"
   ],
   "metadata": {
    "collapsed": false,
    "pycharm": {
     "name": "#%%\n",
     "is_executing": true
    }
   },
   "execution_count": null,
   "outputs": []
  },
  {
   "cell_type": "markdown",
   "source": [
    "## Distillate to 32 steps"
   ],
   "metadata": {
    "collapsed": false
   }
  },
  {
   "cell_type": "code",
   "source": [
    "!python ./distillate.py --module celeba_u --diffusion GaussianDiffusionDefault --name celeba --dname base_4 --base_checkpoint ./checkpoints/celeba/base_3/checkpoint.pt --batch_size 1 --num_workers 4 --num_iters 10000 --log_interval 5"
   ],
   "metadata": {
    "collapsed": false,
    "pycharm": {
     "name": "#%%\n",
     "is_executing": true
    }
   },
   "execution_count": null,
   "outputs": []
  },
  {
   "cell_type": "markdown",
   "source": [
    "## Distillate to 16 steps"
   ],
   "metadata": {
    "collapsed": false
   }
  },
  {
   "cell_type": "code",
   "source": [
    "!python ./distillate.py --module celeba_u --diffusion GaussianDiffusionDefault --name celeba --dname base_5 --base_checkpoint ./checkpoints/celeba/base_4/checkpoint.pt --batch_size 1 --num_workers 4 --num_iters 10000 --log_interval 5"
   ],
   "metadata": {
    "collapsed": false,
    "pycharm": {
     "name": "#%%\n",
     "is_executing": true
    }
   },
   "execution_count": null,
   "outputs": []
  },
  {
   "cell_type": "markdown",
   "source": [
    "## Distillate to 8 steps"
   ],
   "metadata": {
    "collapsed": false
   }
  },
  {
   "cell_type": "code",
   "execution_count": null,
   "outputs": [
    {
     "name": "stdout",
     "output_type": "stream",
     "text": [
      "module=celeba_u name=celeba dname=base_6 base_checkpoint=./checkpoints/celeba/base_5/checkpoint.pt gamma=0 checkpoint_to_continue= num_iters=10000 batch_size=1 lr=1.5e-05 scheduler=StrategyLinearLR diffusion=GaussianDiffusionDefault log_interval=5 ckpt_interval=30 num_workers=4\r\n",
      "Num timesteps: 16, time scale: 64.\r\n",
      "Teacher parameters copied.\r\n",
      "Distillation...\r\n",
      "  0%|                                                 | 0/10000 [00:00<?, ?it/s]/home/user/ML/GAN/diffusion_distiller/v_diffusion.py:156: UserWarning: __floordiv__ is deprecated, and its behavior will change in a future version of pytorch. It currently rounds toward 0 (like the 'trunc' function NOT 'floor'). This results in incorrect rounding for negative values. To keep the current behavior, use torch.div(a, b, rounding_mode='trunc'), or for actual floor division, use torch.div(a, b, rounding_mode='floor').\r\n",
      "  alpha_s, sigma_s = student_diffusion.get_alpha_sigma(x, t // 2)\r\n",
      "Loss: 0.0013151308700582742:   4%|▎       | 383/10000 [03:38<1:29:31,  1.79it/s]"
     ]
    }
   ],
   "source": [
    "!python ./distillate.py --module celeba_u --diffusion GaussianDiffusionDefault --name celeba --dname base_6 --base_checkpoint ./checkpoints/celeba/base_5/checkpoint.pt --batch_size 1 --num_workers 4 --num_iters 10000 --log_interval 5"
   ],
   "metadata": {
    "collapsed": false,
    "pycharm": {
     "name": "#%%\n",
     "is_executing": true
    }
   }
  },
  {
   "cell_type": "markdown",
   "source": [
    "# Image generation"
   ],
   "metadata": {
    "collapsed": false,
    "pycharm": {
     "name": "#%% md\n"
    }
   }
  },
  {
   "cell_type": "code",
   "execution_count": 11,
   "outputs": [
    {
     "name": "stdout",
     "output_type": "stream",
     "text": [
      "Model loaded.\r\n",
      "16it [00:05,  2.68it/s]\r\n",
      "Finished.\r\n"
     ]
    }
   ],
   "source": [
    "!python ./sample.py --out_file ./images/celeba_u_5.png --module celeba_u --checkpoint ./checkpoints/celeba/base_5/checkpoint.pt --batch_size 4 --clip_value 1.0"
   ],
   "metadata": {
    "collapsed": false,
    "pycharm": {
     "name": "#%%\n"
    }
   }
  },
  {
   "cell_type": "code",
   "execution_count": 12,
   "outputs": [
    {
     "name": "stdout",
     "output_type": "stream",
     "text": [
      "Model loaded.\r\n",
      "16it [00:05,  2.69it/s]\r\n",
      "Finished.\r\n"
     ]
    }
   ],
   "source": [
    "!python ./sample.py --out_file ./images/celeba_original_ts64.png --module celeba_u --time_scale 64 --checkpoint ./checkpoints/celeba/original/checkpoint.pt --batch_size 4 --clip_value 1.0"
   ],
   "metadata": {
    "collapsed": false,
    "pycharm": {
     "name": "#%%\n"
    }
   }
  },
  {
   "cell_type": "code",
   "execution_count": 9,
   "outputs": [
    {
     "name": "stdout",
     "output_type": "stream",
     "text": [
      "[NbConvertApp] Converting notebook celeba_u_script.ipynb to script\r\n",
      "[NbConvertApp] Writing 3177 bytes to celeba_u_script_converted.py\r\n"
     ]
    }
   ],
   "source": [
    "# export to script\n",
    "#!jupyter nbconvert --to script celeba_u_script.ipynb --output celeba_u_script_converted"
   ],
   "metadata": {
    "collapsed": false,
    "pycharm": {
     "name": "#%%\n"
    }
   }
  }
 ],
 "metadata": {
  "kernelspec": {
   "name": "python38264bit9d0d25178abd49d88556230b696c8b15",
   "language": "python",
   "display_name": "Python 3.8.2 64-bit"
  },
  "language_info": {
   "codemirror_mode": {
    "name": "ipython",
    "version": 2
   },
   "file_extension": ".py",
   "mimetype": "text/x-python",
   "name": "python",
   "nbconvert_exporter": "python",
   "pygments_lexer": "ipython2",
   "version": "2.7.6"
  }
 },
 "nbformat": 4,
 "nbformat_minor": 0
}